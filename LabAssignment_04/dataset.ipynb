{
 "cells": [
  {
   "cell_type": "code",
   "execution_count": 11,
   "metadata": {},
   "outputs": [
    {
     "name": "stdout",
     "output_type": "stream",
     "text": [
      "https://ivc.ischool.utexas.edu/VizWiz/data/Images/\n",
      "https://ivc.ischool.utexas.edu/VizWiz/data/Annotations/train.json\n",
      "https://ivc.ischool.utexas.edu/VizWiz/data/Annotations/test.json\n",
      "https://ivc.ischool.utexas.edu/VizWiz/data/Annotations/val.json\n"
     ]
    }
   ],
   "source": [
    "# (c)\n",
    "import numpy as np\n",
    "import pandas as pd\n",
    "import requests\n",
    "import os\n",
    "import json\n",
    "\n",
    "base_url = 'https://ivc.ischool.utexas.edu/VizWiz/data'\n",
    "img_dir = '%s/Images/' %base_url\n",
    "print(img_dir)\n",
    "\n",
    "train_split = 'train'\n",
    "train_file = '%s/Annotations/%s.json' %(base_url, train_split)\n",
    "train_data = requests.get(train_file, allow_redirects=True)\n",
    "print(train_file)\n",
    "\n",
    "test_split = 'test'\n",
    "test_file = '%s/Annotations/%s.json' %(base_url, test_split)\n",
    "test_data = requests.get(test_file, allow_redirects=True)\n",
    "print(test_file)\n",
    "\n",
    "val_split = 'val'\n",
    "val_file = '%s/Annotations/%s.json' %(base_url, val_split)\n",
    "val_data = requests.get(val_file, allow_redirects=True)\n",
    "print(val_file)\n",
    "\n",
    "training_data = train_data.json()\n",
    "testing_data = test_data.json()\n",
    "validation_data = val_data.json()\n",
    "\n",
    "image_name_train = []\n",
    "question_train = []\n",
    "label_train = []\n",
    "\n",
    "image_name_val = []\n",
    "question_val = []\n",
    "label_val = []\n",
    "\n",
    "image_name_test = []\n",
    "question_test = []\n",
    "label_test = []\n",
    "\n",
    "num_train_VQs = 20000\n",
    "for vq in training_data[0:num_train_VQs]:\n",
    "    image_name_train.append(vq['image'])\n",
    "    question_train.append(vq['question'])\n",
    "    label_train.append(vq['answerable'])\n",
    "    \n",
    "num_val_VQs = 8000\n",
    "for vq in validation_data[0:2000]:\n",
    "    image_name_val.append(vq['image'])\n",
    "    question_val.append(vq['question'])\n",
    "    label_val.append(vq['answerable'])\n",
    "    \n",
    "num_test_VQs = 3173\n",
    "for vq in testing_data[100:200]:\n",
    "    image_name_test.append(vq['image'])\n",
    "    question_test.append(vq['question'])\n",
    "#     label_test.append(vq['answerable'])\n",
    "\n",
    "import pandas as pd\n",
    "image_name_train = pd.DataFrame(image_name_train, columns=['image'])\n",
    "image_name_val = pd.DataFrame(image_name_val, columns=['image'])\n",
    "image_name_test = pd.DataFrame(image_name_test, columns=['image'])\n",
    "question_train = pd.DataFrame(question_train, columns=['question'])\n",
    "question_val = pd.DataFrame(question_val, columns=['question'])\n",
    "question_test = pd.DataFrame(question_test, columns=['question'])\n",
    "\n",
    "X_train = pd.concat([image_name_train, question_train], axis=1)\n",
    "y_train = pd.DataFrame(label_train, columns=['label'])\n",
    "X_val = pd.concat([image_name_val, question_val], axis=1)\n",
    "y_val = pd.DataFrame(label_val, columns=['label'])\n",
    "X_test = pd.concat([image_name_test, question_test], axis=1)"
   ]
  },
  {
   "cell_type": "code",
   "execution_count": 12,
   "metadata": {},
   "outputs": [
    {
     "name": "stdout",
     "output_type": "stream",
     "text": [
      "(20000, 1)\n",
      "2000\n"
     ]
    }
   ],
   "source": [
    "print(y_train.shape)\n",
    "print(len(y_val))\n"
   ]
  },
  {
   "cell_type": "code",
   "execution_count": 13,
   "metadata": {},
   "outputs": [],
   "source": [
    "# y_train.to_csv('y_train.csv', index=False)\n",
    "data = pd.DataFrame()\n",
    "indexlist = []\n",
    "answerablelist = []\n",
    "for index,answerable in y_train['label'].items():\n",
    "    indexlist.append(index)\n",
    "    answerablelist.append(answerable)\n",
    "data[\"id\"] = indexlist\n",
    "data[\"answerable\"] = answerablelist\n",
    "data.columns = [\"id\", \"answerable\"]\n",
    "data.head()\n",
    "data.to_csv('y_train.csv', index=False, header=False)"
   ]
  },
  {
   "cell_type": "code",
   "execution_count": 14,
   "metadata": {},
   "outputs": [],
   "source": [
    "\n",
    "data = pd.DataFrame()\n",
    "indexlist = []\n",
    "answerablelist = []\n",
    "for index,answerable in y_val['label'].items():\n",
    "    indexlist.append(index)\n",
    "    answerablelist.append(answerable)\n",
    "data[\"id\"] = indexlist\n",
    "data[\"answerable\"] = answerablelist\n",
    "data.columns = [\"id\", \"answerable\"]\n",
    "data.head()\n",
    "data.to_csv('y_val.csv', index=False, header=False)"
   ]
  },
  {
   "cell_type": "code",
   "execution_count": null,
   "metadata": {},
   "outputs": [],
   "source": []
  },
  {
   "cell_type": "code",
   "execution_count": null,
   "metadata": {},
   "outputs": [],
   "source": [
    "import pandas as pd\n",
    "data0 = pd.read_csv('../dataaaa/image_feature_train.csv')\n",
    "data1 = pd.read_csv('../dataaaa/image_feature_train_1.csv')\n",
    "data2 = pd.read_csv('../dataaaa/image_feature_train_2.csv')\n",
    "data3 = pd.read_csv('../dataaaa/image_feature_train_3.csv')\n",
    "data4 = pd.read_csv('../dataaaa/image_feature_train_4.csv')\n",
    "data5 = pd.read_csv('../dataaaa/image_feature_train_5.csv')"
   ]
  },
  {
   "cell_type": "code",
   "execution_count": null,
   "metadata": {},
   "outputs": [],
   "source": [
    "print(data0.shape)\n",
    "print(data1.shape)\n",
    "print(data2.shape)\n",
    "print(data3.shape)\n",
    "print(data4.shape)\n",
    "print(data5.shape)"
   ]
  },
  {
   "cell_type": "code",
   "execution_count": null,
   "metadata": {},
   "outputs": [],
   "source": [
    "df = pd.concat([data0, data1, data2, data3, data4, data5])\n",
    "print(df.shape)"
   ]
  },
  {
   "cell_type": "code",
   "execution_count": null,
   "metadata": {},
   "outputs": [],
   "source": [
    "df.to_csv('concat.csv', index=False)"
   ]
  },
  {
   "cell_type": "code",
   "execution_count": null,
   "metadata": {},
   "outputs": [],
   "source": []
  },
  {
   "cell_type": "code",
   "execution_count": null,
   "metadata": {},
   "outputs": [],
   "source": []
  },
  {
   "cell_type": "code",
   "execution_count": 5,
   "metadata": {},
   "outputs": [],
   "source": [
    "import pandas as pd\n",
    "\n",
    "data1 = pd.read_csv('../val/question_feature_val_11.csv')\n",
    "data2 = pd.read_csv('../val/question_feature_val_12.csv')\n",
    "data3 = pd.read_csv('../val/question_feature_val_13.csv')\n",
    "data4 = pd.read_csv('../val/question_feature_val_14.csv')\n",
    "data5 = pd.read_csv('../val/question_feature_val_15.csv')\n",
    "data6 = pd.read_csv('../val/question_feature_val_16.csv')\n",
    "data7 = pd.read_csv('../val/question_feature_val_17.csv')\n",
    "data8 = pd.read_csv('../val/question_feature_val_18.csv')\n",
    "data9 = pd.read_csv('../val/question_feature_val_19.csv')\n",
    "data10 = pd.read_csv('../val/question_feature_val_20.csv')"
   ]
  },
  {
   "cell_type": "code",
   "execution_count": 6,
   "metadata": {},
   "outputs": [
    {
     "name": "stdout",
     "output_type": "stream",
     "text": [
      "(300, 2)\n"
     ]
    }
   ],
   "source": [
    "df = pd.concat([data1, data2, data3, data4, data5, data6, data7, data8, data9, data10])\n",
    "print(df.shape)"
   ]
  },
  {
   "cell_type": "code",
   "execution_count": 7,
   "metadata": {},
   "outputs": [],
   "source": [
    "df.to_csv('../val/concat2.csv', index=False)"
   ]
  },
  {
   "cell_type": "code",
   "execution_count": 8,
   "metadata": {},
   "outputs": [],
   "source": [
    "data1 = pd.read_csv('../val/concat1.csv')\n",
    "data2 = pd.read_csv('../val/concat2.csv')"
   ]
  },
  {
   "cell_type": "code",
   "execution_count": 9,
   "metadata": {},
   "outputs": [
    {
     "name": "stdout",
     "output_type": "stream",
     "text": [
      "(600, 2)\n"
     ]
    }
   ],
   "source": [
    "df = pd.concat([data1, data2])\n",
    "print(df.shape)"
   ]
  },
  {
   "cell_type": "code",
   "execution_count": 10,
   "metadata": {},
   "outputs": [],
   "source": [
    "df.to_csv('../val/concat.csv', index=False)"
   ]
  },
  {
   "cell_type": "code",
   "execution_count": null,
   "metadata": {},
   "outputs": [],
   "source": []
  }
 ],
 "metadata": {
  "kernelspec": {
   "display_name": "Python 3",
   "language": "python",
   "name": "python3"
  },
  "language_info": {
   "codemirror_mode": {
    "name": "ipython",
    "version": 3
   },
   "file_extension": ".py",
   "mimetype": "text/x-python",
   "name": "python",
   "nbconvert_exporter": "python",
   "pygments_lexer": "ipython3",
   "version": "3.7.1"
  }
 },
 "nbformat": 4,
 "nbformat_minor": 2
}
